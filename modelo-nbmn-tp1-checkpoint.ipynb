{
 "cells": [
  {
   "cell_type": "code",
   "execution_count": 1,
   "metadata": {
    "_cell_guid": "b1076dfc-b9ad-4769-8c92-a6c4dae69d19",
    "_uuid": "8f2839f25d086af736a60e9eeb907d3b93b6e0e5",
    "tags": []
   },
   "outputs": [],
   "source": [
    "# This Python 3 environment comes with many helpful analytics libraries installed\n",
    "# It is defined by the kaggle/python Docker image: https://github.com/kaggle/docker-python\n",
    "# For example, here's several helpful packages to load\n",
    "\n",
    "import numpy as np # linear algebra\n",
    "import pandas as pd # data processing, CSV file I/O (e.g. pd.read_csv)\n",
    "\n",
    "\n",
    "# Input data files are available in the read-only \"../input/\" directory\n",
    "# For example, running this (by clicking run or pressing Shift+Enter) will list all files under the input directory\n",
    "\n",
    "import os\n",
    "for dirname, _, filenames in os.walk('/kaggle/input'):\n",
    "    for filename in filenames:\n",
    "        print(os.path.join(dirname, filename))\n",
    "\n",
    "# You can write up to 20GB to the current directory (/kaggle/working/) that gets preserved as output when you create a version using \"Save & Run All\" \n",
    "# You can also write temporary files to /kaggle/temp/, but they won't be saved outside of the current session"
   ]
  },
  {
   "cell_type": "code",
   "execution_count": 2,
   "metadata": {
    "tags": []
   },
   "outputs": [],
   "source": [
    "#Importo los vectorizadores\n",
    "from sklearn.feature_extraction.text import CountVectorizer, TfidfVectorizer\n",
    "from sklearn.naive_bayes import MultinomialNB"
   ]
  },
  {
   "cell_type": "code",
   "execution_count": null,
   "metadata": {
    "tags": []
   },
   "outputs": [],
   "source": [
    "# Cargo los datos (En Kaggle)\n",
    "df_train = pd.read_hdf(\"/kaggle/input/sesgos-en-el-dataset-de-snli/train_data.hdf5\")\n",
    "df_valid = pd.read_hdf(\"/kaggle/input/sesgos-en-el-dataset-de-snli/valid_data.hdf5\")\n",
    "df_test = pd.read_hdf(\"/kaggle/input/sesgos-en-el-dataset-de-snli/test_data.hdf5\")"
   ]
  },
  {
   "cell_type": "code",
   "execution_count": 3,
   "metadata": {
    "tags": []
   },
   "outputs": [
    {
     "ename": "FileNotFoundError",
     "evalue": "File /kaggle/input/sesgos-en-el-dataset-de-snli/train_data.hdf5 does not exist",
     "output_type": "error",
     "traceback": [
      "\u001b[1;31m---------------------------------------------------------------------------\u001b[0m",
      "\u001b[1;31mFileNotFoundError\u001b[0m                         Traceback (most recent call last)",
      "\u001b[1;32m~\\AppData\\Local\\Temp/ipykernel_2496/3843351784.py\u001b[0m in \u001b[0;36m<module>\u001b[1;34m\u001b[0m\n\u001b[0;32m      1\u001b[0m \u001b[1;31m# Cargo los datos\u001b[0m\u001b[1;33m\u001b[0m\u001b[1;33m\u001b[0m\u001b[1;33m\u001b[0m\u001b[0m\n\u001b[1;32m----> 2\u001b[1;33m \u001b[0mdf_train\u001b[0m \u001b[1;33m=\u001b[0m \u001b[0mpd\u001b[0m\u001b[1;33m.\u001b[0m\u001b[0mread_hdf\u001b[0m\u001b[1;33m(\u001b[0m\u001b[1;34m\"/kaggle/input/sesgos-en-el-dataset-de-snli/train_data.hdf5\"\u001b[0m\u001b[1;33m)\u001b[0m\u001b[1;33m\u001b[0m\u001b[1;33m\u001b[0m\u001b[0m\n\u001b[0m\u001b[0;32m      3\u001b[0m \u001b[0mdf_valid\u001b[0m \u001b[1;33m=\u001b[0m \u001b[0mpd\u001b[0m\u001b[1;33m.\u001b[0m\u001b[0mread_hdf\u001b[0m\u001b[1;33m(\u001b[0m\u001b[1;34m\"/kaggle/input/sesgos-en-el-dataset-de-snli/valid_data.hdf5\"\u001b[0m\u001b[1;33m)\u001b[0m\u001b[1;33m\u001b[0m\u001b[1;33m\u001b[0m\u001b[0m\n\u001b[0;32m      4\u001b[0m \u001b[0mdf_test\u001b[0m \u001b[1;33m=\u001b[0m \u001b[0mpd\u001b[0m\u001b[1;33m.\u001b[0m\u001b[0mread_hdf\u001b[0m\u001b[1;33m(\u001b[0m\u001b[1;34m\"/kaggle/input/sesgos-en-el-dataset-de-snli/test_data.hdf5\"\u001b[0m\u001b[1;33m)\u001b[0m\u001b[1;33m\u001b[0m\u001b[1;33m\u001b[0m\u001b[0m\n",
      "\u001b[1;32m~\\miniconda3\\envs\\rn_tp1\\lib\\site-packages\\pandas\\io\\pytables.py\u001b[0m in \u001b[0;36mread_hdf\u001b[1;34m(path_or_buf, key, mode, errors, where, start, stop, columns, iterator, chunksize, **kwargs)\u001b[0m\n\u001b[0;32m    425\u001b[0m \u001b[1;33m\u001b[0m\u001b[0m\n\u001b[0;32m    426\u001b[0m         \u001b[1;32mif\u001b[0m \u001b[1;32mnot\u001b[0m \u001b[0mexists\u001b[0m\u001b[1;33m:\u001b[0m\u001b[1;33m\u001b[0m\u001b[1;33m\u001b[0m\u001b[0m\n\u001b[1;32m--> 427\u001b[1;33m             \u001b[1;32mraise\u001b[0m \u001b[0mFileNotFoundError\u001b[0m\u001b[1;33m(\u001b[0m\u001b[1;34mf\"File {path_or_buf} does not exist\"\u001b[0m\u001b[1;33m)\u001b[0m\u001b[1;33m\u001b[0m\u001b[1;33m\u001b[0m\u001b[0m\n\u001b[0m\u001b[0;32m    428\u001b[0m \u001b[1;33m\u001b[0m\u001b[0m\n\u001b[0;32m    429\u001b[0m         \u001b[0mstore\u001b[0m \u001b[1;33m=\u001b[0m \u001b[0mHDFStore\u001b[0m\u001b[1;33m(\u001b[0m\u001b[0mpath_or_buf\u001b[0m\u001b[1;33m,\u001b[0m \u001b[0mmode\u001b[0m\u001b[1;33m=\u001b[0m\u001b[0mmode\u001b[0m\u001b[1;33m,\u001b[0m \u001b[0merrors\u001b[0m\u001b[1;33m=\u001b[0m\u001b[0merrors\u001b[0m\u001b[1;33m,\u001b[0m \u001b[1;33m**\u001b[0m\u001b[0mkwargs\u001b[0m\u001b[1;33m)\u001b[0m\u001b[1;33m\u001b[0m\u001b[1;33m\u001b[0m\u001b[0m\n",
      "\u001b[1;31mFileNotFoundError\u001b[0m: File /kaggle/input/sesgos-en-el-dataset-de-snli/train_data.hdf5 does not exist"
     ]
    }
   ],
   "source": [
    "# Cargo los datos (En PC)\n",
    "df_train = pd.read_hdf(\"train_data.hdf5\")\n",
    "df_valid = pd.read_hdf(\"valid_data.hdf5\")\n",
    "df_test = pd.read_hdf(\"test_data.hdf5\")"
   ]
  },
  {
   "cell_type": "code",
   "execution_count": 21,
   "metadata": {
    "execution": {
     "iopub.execute_input": "2021-09-21T18:44:53.494307Z",
     "iopub.status.busy": "2021-09-21T18:44:53.493826Z",
     "iopub.status.idle": "2021-09-21T18:44:53.500028Z",
     "shell.execute_reply": "2021-09-21T18:44:53.498996Z",
     "shell.execute_reply.started": "2021-09-21T18:44:53.494266Z"
    }
   },
   "outputs": [
    {
     "data": {
      "text/plain": [
       "549367"
      ]
     },
     "execution_count": 21,
     "metadata": {},
     "output_type": "execute_result"
    }
   ],
   "source": [
    "#Cantidad de documentos en train\n",
    "len(df_train)"
   ]
  },
  {
   "cell_type": "code",
   "execution_count": 22,
   "metadata": {
    "execution": {
     "iopub.execute_input": "2021-09-21T18:44:53.502759Z",
     "iopub.status.busy": "2021-09-21T18:44:53.502425Z",
     "iopub.status.idle": "2021-09-21T18:44:53.518379Z",
     "shell.execute_reply": "2021-09-21T18:44:53.517422Z",
     "shell.execute_reply.started": "2021-09-21T18:44:53.502721Z"
    }
   },
   "outputs": [
    {
     "data": {
      "text/html": [
       "<div>\n",
       "<style scoped>\n",
       "    .dataframe tbody tr th:only-of-type {\n",
       "        vertical-align: middle;\n",
       "    }\n",
       "\n",
       "    .dataframe tbody tr th {\n",
       "        vertical-align: top;\n",
       "    }\n",
       "\n",
       "    .dataframe thead th {\n",
       "        text-align: right;\n",
       "    }\n",
       "</style>\n",
       "<table border=\"1\" class=\"dataframe\">\n",
       "  <thead>\n",
       "    <tr style=\"text-align: right;\">\n",
       "      <th></th>\n",
       "      <th>gold_label</th>\n",
       "      <th>text</th>\n",
       "    </tr>\n",
       "    <tr>\n",
       "      <th>pairID</th>\n",
       "      <th></th>\n",
       "      <th></th>\n",
       "    </tr>\n",
       "  </thead>\n",
       "  <tbody>\n",
       "    <tr>\n",
       "      <th>1000092795.jpg#0r1c</th>\n",
       "      <td>contradiction</td>\n",
       "      <td>they are inside of a house</td>\n",
       "    </tr>\n",
       "    <tr>\n",
       "      <th>1000092795.jpg#0r1e</th>\n",
       "      <td>entailment</td>\n",
       "      <td>two guys are in a yard</td>\n",
       "    </tr>\n",
       "    <tr>\n",
       "      <th>1000092795.jpg#0r1n</th>\n",
       "      <td>neutral</td>\n",
       "      <td>They are doing yardwork</td>\n",
       "    </tr>\n",
       "    <tr>\n",
       "      <th>1000092795.jpg#1r1c</th>\n",
       "      <td>contradiction</td>\n",
       "      <td>A man is swimming.</td>\n",
       "    </tr>\n",
       "    <tr>\n",
       "      <th>1000092795.jpg#1r1e</th>\n",
       "      <td>entailment</td>\n",
       "      <td>Two young white men are near some bushes.</td>\n",
       "    </tr>\n",
       "  </tbody>\n",
       "</table>\n",
       "</div>"
      ],
      "text/plain": [
       "                        gold_label                                       text\n",
       "pairID                                                                       \n",
       "1000092795.jpg#0r1c  contradiction                 they are inside of a house\n",
       "1000092795.jpg#0r1e     entailment                     two guys are in a yard\n",
       "1000092795.jpg#0r1n        neutral                    They are doing yardwork\n",
       "1000092795.jpg#1r1c  contradiction                         A man is swimming.\n",
       "1000092795.jpg#1r1e     entailment  Two young white men are near some bushes."
      ]
     },
     "execution_count": 22,
     "metadata": {},
     "output_type": "execute_result"
    }
   ],
   "source": [
    "df_train.head()"
   ]
  },
  {
   "cell_type": "code",
   "execution_count": 23,
   "metadata": {
    "execution": {
     "iopub.execute_input": "2021-09-21T18:44:53.519426Z",
     "iopub.status.busy": "2021-09-21T18:44:53.519227Z",
     "iopub.status.idle": "2021-09-21T18:44:53.550740Z",
     "shell.execute_reply": "2021-09-21T18:44:53.550129Z",
     "shell.execute_reply.started": "2021-09-21T18:44:53.519404Z"
    }
   },
   "outputs": [
    {
     "data": {
      "text/html": [
       "<div>\n",
       "<style scoped>\n",
       "    .dataframe tbody tr th:only-of-type {\n",
       "        vertical-align: middle;\n",
       "    }\n",
       "\n",
       "    .dataframe tbody tr th {\n",
       "        vertical-align: top;\n",
       "    }\n",
       "\n",
       "    .dataframe thead th {\n",
       "        text-align: right;\n",
       "    }\n",
       "</style>\n",
       "<table border=\"1\" class=\"dataframe\">\n",
       "  <thead>\n",
       "    <tr style=\"text-align: right;\">\n",
       "      <th></th>\n",
       "      <th>gold_label</th>\n",
       "      <th>text</th>\n",
       "    </tr>\n",
       "    <tr>\n",
       "      <th>pairID</th>\n",
       "      <th></th>\n",
       "      <th></th>\n",
       "    </tr>\n",
       "  </thead>\n",
       "  <tbody>\n",
       "    <tr>\n",
       "      <th>100197432.jpg#4r1c</th>\n",
       "      <td>contradiction</td>\n",
       "      <td>The women are seated in a bistro eating lunch.</td>\n",
       "    </tr>\n",
       "    <tr>\n",
       "      <th>100197432.jpg#4r1e</th>\n",
       "      <td>entailment</td>\n",
       "      <td>There are muliple women outdoors.</td>\n",
       "    </tr>\n",
       "    <tr>\n",
       "      <th>100197432.jpg#4r1n</th>\n",
       "      <td>neutral</td>\n",
       "      <td>The women are friends.</td>\n",
       "    </tr>\n",
       "    <tr>\n",
       "      <th>1026792563.jpg#1r1c</th>\n",
       "      <td>contradiction</td>\n",
       "      <td>A group of women are fishing</td>\n",
       "    </tr>\n",
       "    <tr>\n",
       "      <th>1026792563.jpg#1r1e</th>\n",
       "      <td>entailment</td>\n",
       "      <td>A group of women are selling their wares</td>\n",
       "    </tr>\n",
       "  </tbody>\n",
       "</table>\n",
       "</div>"
      ],
      "text/plain": [
       "                        gold_label  \\\n",
       "pairID                               \n",
       "100197432.jpg#4r1c   contradiction   \n",
       "100197432.jpg#4r1e      entailment   \n",
       "100197432.jpg#4r1n         neutral   \n",
       "1026792563.jpg#1r1c  contradiction   \n",
       "1026792563.jpg#1r1e     entailment   \n",
       "\n",
       "                                                               text  \n",
       "pairID                                                               \n",
       "100197432.jpg#4r1c   The women are seated in a bistro eating lunch.  \n",
       "100197432.jpg#4r1e                There are muliple women outdoors.  \n",
       "100197432.jpg#4r1n                           The women are friends.  \n",
       "1026792563.jpg#1r1c                    A group of women are fishing  \n",
       "1026792563.jpg#1r1e        A group of women are selling their wares  "
      ]
     },
     "execution_count": 23,
     "metadata": {},
     "output_type": "execute_result"
    }
   ],
   "source": [
    "df_valid.head()"
   ]
  },
  {
   "cell_type": "code",
   "execution_count": 24,
   "metadata": {
    "execution": {
     "iopub.execute_input": "2021-09-21T18:44:53.552006Z",
     "iopub.status.busy": "2021-09-21T18:44:53.551667Z",
     "iopub.status.idle": "2021-09-21T18:44:53.565996Z",
     "shell.execute_reply": "2021-09-21T18:44:53.565404Z",
     "shell.execute_reply.started": "2021-09-21T18:44:53.551980Z"
    }
   },
   "outputs": [
    {
     "data": {
      "text/html": [
       "<div>\n",
       "<style scoped>\n",
       "    .dataframe tbody tr th:only-of-type {\n",
       "        vertical-align: middle;\n",
       "    }\n",
       "\n",
       "    .dataframe tbody tr th {\n",
       "        vertical-align: top;\n",
       "    }\n",
       "\n",
       "    .dataframe thead th {\n",
       "        text-align: right;\n",
       "    }\n",
       "</style>\n",
       "<table border=\"1\" class=\"dataframe\">\n",
       "  <thead>\n",
       "    <tr style=\"text-align: right;\">\n",
       "      <th></th>\n",
       "      <th>text</th>\n",
       "    </tr>\n",
       "    <tr>\n",
       "      <th>pairID</th>\n",
       "      <th></th>\n",
       "    </tr>\n",
       "  </thead>\n",
       "  <tbody>\n",
       "    <tr>\n",
       "      <th>0</th>\n",
       "      <td>The church has cracks in the ceiling.</td>\n",
       "    </tr>\n",
       "    <tr>\n",
       "      <th>1</th>\n",
       "      <td>The church is filled with song.</td>\n",
       "    </tr>\n",
       "    <tr>\n",
       "      <th>2</th>\n",
       "      <td>A choir singing at a baseball game.</td>\n",
       "    </tr>\n",
       "    <tr>\n",
       "      <th>3</th>\n",
       "      <td>The woman is young.</td>\n",
       "    </tr>\n",
       "    <tr>\n",
       "      <th>4</th>\n",
       "      <td>The woman is very happy.</td>\n",
       "    </tr>\n",
       "  </tbody>\n",
       "</table>\n",
       "</div>"
      ],
      "text/plain": [
       "                                         text\n",
       "pairID                                       \n",
       "0       The church has cracks in the ceiling.\n",
       "1             The church is filled with song.\n",
       "2         A choir singing at a baseball game.\n",
       "3                         The woman is young.\n",
       "4                    The woman is very happy."
      ]
     },
     "execution_count": 24,
     "metadata": {},
     "output_type": "execute_result"
    }
   ],
   "source": [
    "df_test.head()"
   ]
  },
  {
   "cell_type": "code",
   "execution_count": 25,
   "metadata": {
    "execution": {
     "iopub.execute_input": "2021-09-21T18:44:53.567698Z",
     "iopub.status.busy": "2021-09-21T18:44:53.566954Z",
     "iopub.status.idle": "2021-09-21T18:44:53.580909Z",
     "shell.execute_reply": "2021-09-21T18:44:53.580130Z",
     "shell.execute_reply.started": "2021-09-21T18:44:53.567641Z"
    }
   },
   "outputs": [],
   "source": [
    "df_submission = pd.read_csv(\"/kaggle/input/sesgos-en-el-dataset-de-snli/submission_sample.csv\", index_col=\"pairID\")"
   ]
  },
  {
   "cell_type": "code",
   "execution_count": null,
   "metadata": {
    "_kg_hide-output": true,
    "scrolled": true
   },
   "outputs": [],
   "source": [
    "df_submission"
   ]
  },
  {
   "cell_type": "code",
   "execution_count": 27,
   "metadata": {
    "execution": {
     "iopub.execute_input": "2021-09-21T18:44:53.593522Z",
     "iopub.status.busy": "2021-09-21T18:44:53.593310Z",
     "iopub.status.idle": "2021-09-21T18:44:53.625290Z",
     "shell.execute_reply": "2021-09-21T18:44:53.624605Z",
     "shell.execute_reply.started": "2021-09-21T18:44:53.593499Z"
    }
   },
   "outputs": [],
   "source": [
    "text_train = df_train[\"text\"].tolist()\n",
    "labels_train = df_train[\"gold_label\"].tolist()\n",
    "text_val = df_valid[\"text\"].tolist()\n",
    "labels_val = df_valid[\"gold_label\"].tolist()\n",
    "text_test = df_test[\"text\"].tolist()"
   ]
  },
  {
   "cell_type": "code",
   "execution_count": 28,
   "metadata": {
    "execution": {
     "iopub.execute_input": "2021-09-21T18:44:53.626937Z",
     "iopub.status.busy": "2021-09-21T18:44:53.626351Z",
     "iopub.status.idle": "2021-09-21T18:44:53.694589Z",
     "shell.execute_reply": "2021-09-21T18:44:53.693893Z",
     "shell.execute_reply.started": "2021-09-21T18:44:53.626905Z"
    }
   },
   "outputs": [
    {
     "data": {
      "text/plain": [
       "Counter({'contradiction': 183187, 'entailment': 183416, 'neutral': 182764})"
      ]
     },
     "execution_count": 28,
     "metadata": {},
     "output_type": "execute_result"
    }
   ],
   "source": [
    "#Veamos el balance de clases\n",
    "from collections import Counter\n",
    "Counter(labels_train)"
   ]
  },
  {
   "cell_type": "markdown",
   "metadata": {},
   "source": [
    "# Clases de este dataset\n",
    "+ Contradiction\n",
    "+ Entailment\n",
    "+ Neutral"
   ]
  },
  {
   "cell_type": "markdown",
   "metadata": {},
   "source": [
    "# Pre-procesamiento de Texto\n",
    "+ NLTK (Natural Language Toolkit)\n",
    "  + Tokenization: separa el texto en las palabras según criterio\n",
    "  + Lemmatization: reduce a sus significados (ej, quita conjugación verbal)\n",
    "  + Stop Words: quita preposiciones (como palabras muy usuales de relleno?)\n",
    "  + Stemming: reduce las palabras a su raíz\n",
    "  + Filtrado de palabras"
   ]
  },
  {
   "cell_type": "code",
   "execution_count": null,
   "metadata": {},
   "outputs": [],
   "source": [
    "import nltk\n",
    "from nltk.tokenize import word_tokenize\n",
    "from nltk.stem import WordNetLemmatizer\n",
    "from nltk.corpus import stopwords\n",
    "from nltk.stem import PorterStemmer"
   ]
  },
  {
   "cell_type": "code",
   "execution_count": null,
   "metadata": {},
   "outputs": [],
   "source": [
    "def data_filter(dataset):\n",
    "    texts_filtrados = list()\n",
    "    for idx in range(len(dataset.text)):\n",
    "        if idx%100==0:\n",
    "            print(\"\\r Procesados: {}\".format(idx),end=\"\")\n",
    "        em=dataset.text[idx]\n",
    "        tok=word_tokenize(em)\n",
    "        lem=[lemmatizer.lemmatize(x,pos='v') for x in tok]\n",
    "        stop = [x for x in lem if x not in stopwords.words('english')]\n",
    "        stem=[stemmer.stem(x) for x in stop]\n",
    "        alpha=[x for x in stem if x.isalpha()]\n",
    "        texts_filtrados.append(\" \".join(alpha))\n",
    "    return texts_filtrados"
   ]
  },
  {
   "cell_type": "code",
   "execution_count": null,
   "metadata": {},
   "outputs": [],
   "source": [
    "# "
   ]
  },
  {
   "cell_type": "markdown",
   "metadata": {},
   "source": [
    "# Armos los CV para train y valid"
   ]
  },
  {
   "cell_type": "code",
   "execution_count": 29,
   "metadata": {
    "execution": {
     "iopub.execute_input": "2021-09-21T18:44:53.696054Z",
     "iopub.status.busy": "2021-09-21T18:44:53.695697Z",
     "iopub.status.idle": "2021-09-21T18:44:53.736476Z",
     "shell.execute_reply": "2021-09-21T18:44:53.735789Z",
     "shell.execute_reply.started": "2021-09-21T18:44:53.696025Z"
    }
   },
   "outputs": [],
   "source": [
    "cv = CountVectorizer(min_df=10, ngram_range = (1,2)) \n",
    "#cv = TfidfVectorizer(min_df=1)\n",
    "#ngram_range es lo que toma como vocabulario conjuntos de paralbras consecutivas."
   ]
  },
  {
   "cell_type": "code",
   "execution_count": 30,
   "metadata": {
    "execution": {
     "iopub.execute_input": "2021-09-21T18:44:53.737898Z",
     "iopub.status.busy": "2021-09-21T18:44:53.737543Z",
     "iopub.status.idle": "2021-09-21T18:45:02.255091Z",
     "shell.execute_reply": "2021-09-21T18:45:02.254201Z",
     "shell.execute_reply.started": "2021-09-21T18:44:53.737869Z"
    }
   },
   "outputs": [],
   "source": [
    "cv_train = cv.fit_transform(text_train)\n"
   ]
  },
  {
   "cell_type": "code",
   "execution_count": 31,
   "metadata": {
    "execution": {
     "iopub.execute_input": "2021-09-21T18:45:02.257691Z",
     "iopub.status.busy": "2021-09-21T18:45:02.257439Z",
     "iopub.status.idle": "2021-09-21T18:45:02.397788Z",
     "shell.execute_reply": "2021-09-21T18:45:02.396990Z",
     "shell.execute_reply.started": "2021-09-21T18:45:02.257662Z"
    }
   },
   "outputs": [],
   "source": [
    "cv_valid = cv.transform(text_val)"
   ]
  },
  {
   "cell_type": "code",
   "execution_count": 32,
   "metadata": {
    "execution": {
     "iopub.execute_input": "2021-09-21T18:45:02.399454Z",
     "iopub.status.busy": "2021-09-21T18:45:02.398697Z",
     "iopub.status.idle": "2021-09-21T18:45:02.405852Z",
     "shell.execute_reply": "2021-09-21T18:45:02.404852Z",
     "shell.execute_reply.started": "2021-09-21T18:45:02.399420Z"
    }
   },
   "outputs": [
    {
     "data": {
      "text/plain": [
       "(549367, 36451)"
      ]
     },
     "execution_count": 32,
     "metadata": {},
     "output_type": "execute_result"
    }
   ],
   "source": [
    "cv_train.shape"
   ]
  },
  {
   "cell_type": "code",
   "execution_count": 33,
   "metadata": {
    "execution": {
     "iopub.execute_input": "2021-09-21T18:45:02.407199Z",
     "iopub.status.busy": "2021-09-21T18:45:02.406967Z",
     "iopub.status.idle": "2021-09-21T18:45:02.452301Z",
     "shell.execute_reply": "2021-09-21T18:45:02.451267Z",
     "shell.execute_reply.started": "2021-09-21T18:45:02.407176Z"
    }
   },
   "outputs": [
    {
     "data": {
      "text/plain": [
       "['youth are',\n",
       " 'youth group',\n",
       " 'youth is',\n",
       " 'youthful',\n",
       " 'youths',\n",
       " 'youths are',\n",
       " 'youtube',\n",
       " 'youtube video',\n",
       " 'zebra',\n",
       " 'zebra is',\n",
       " 'zero',\n",
       " 'zip',\n",
       " 'zip line',\n",
       " 'zombie',\n",
       " 'zombies',\n",
       " 'zombies are',\n",
       " 'zone',\n",
       " 'zoo',\n",
       " 'zooms']"
      ]
     },
     "execution_count": 33,
     "metadata": {},
     "output_type": "execute_result"
    }
   ],
   "source": [
    "# Vemos un poco el vocabulario\n",
    "cv.get_feature_names()[-19:]"
   ]
  },
  {
   "cell_type": "code",
   "execution_count": 34,
   "metadata": {
    "execution": {
     "iopub.execute_input": "2021-09-21T18:45:02.453572Z",
     "iopub.status.busy": "2021-09-21T18:45:02.453363Z",
     "iopub.status.idle": "2021-09-21T18:45:02.465957Z",
     "shell.execute_reply": "2021-09-21T18:45:02.464924Z",
     "shell.execute_reply.started": "2021-09-21T18:45:02.453548Z"
    }
   },
   "outputs": [],
   "source": [
    "from sklearn.naive_bayes import MultinomialNB"
   ]
  },
  {
   "cell_type": "code",
   "execution_count": 35,
   "metadata": {
    "execution": {
     "iopub.execute_input": "2021-09-21T18:45:02.467976Z",
     "iopub.status.busy": "2021-09-21T18:45:02.467499Z",
     "iopub.status.idle": "2021-09-21T18:45:03.348555Z",
     "shell.execute_reply": "2021-09-21T18:45:03.347887Z",
     "shell.execute_reply.started": "2021-09-21T18:45:02.467933Z"
    }
   },
   "outputs": [
    {
     "data": {
      "text/plain": [
       "MultinomialNB(alpha=1e-10)"
      ]
     },
     "execution_count": 35,
     "metadata": {},
     "output_type": "execute_result"
    }
   ],
   "source": [
    "clf = MultinomialNB(alpha=1e-10)\n",
    "clf.fit(cv_train, labels_train)"
   ]
  },
  {
   "cell_type": "code",
   "execution_count": 36,
   "metadata": {
    "execution": {
     "iopub.execute_input": "2021-09-21T18:45:03.349820Z",
     "iopub.status.busy": "2021-09-21T18:45:03.349586Z",
     "iopub.status.idle": "2021-09-21T18:45:03.355230Z",
     "shell.execute_reply": "2021-09-21T18:45:03.354615Z",
     "shell.execute_reply.started": "2021-09-21T18:45:03.349796Z"
    }
   },
   "outputs": [
    {
     "data": {
      "text/plain": [
       "array([-12.56211639, -10.84446489, -13.40941425, ..., -11.41698409,\n",
       "        -9.40208107, -13.40941425])"
      ]
     },
     "execution_count": 36,
     "metadata": {},
     "output_type": "execute_result"
    }
   ],
   "source": [
    "#logprobabilidades de la clase 0\n",
    "clf.coef_[0]"
   ]
  },
  {
   "cell_type": "code",
   "execution_count": 37,
   "metadata": {
    "execution": {
     "iopub.execute_input": "2021-09-21T18:45:03.356539Z",
     "iopub.status.busy": "2021-09-21T18:45:03.356224Z",
     "iopub.status.idle": "2021-09-21T18:45:03.948296Z",
     "shell.execute_reply": "2021-09-21T18:45:03.947747Z",
     "shell.execute_reply.started": "2021-09-21T18:45:03.356514Z"
    }
   },
   "outputs": [
    {
     "data": {
      "text/plain": [
       "0.6493109342206576"
      ]
     },
     "execution_count": 37,
     "metadata": {},
     "output_type": "execute_result"
    }
   ],
   "source": [
    "#Veamos còmo funciona el clasificador para train\n",
    "clf.score(cv_train, labels_train)"
   ]
  },
  {
   "cell_type": "code",
   "execution_count": 38,
   "metadata": {
    "execution": {
     "iopub.execute_input": "2021-09-21T18:45:03.949551Z",
     "iopub.status.busy": "2021-09-21T18:45:03.949232Z",
     "iopub.status.idle": "2021-09-21T18:45:03.965056Z",
     "shell.execute_reply": "2021-09-21T18:45:03.964184Z",
     "shell.execute_reply.started": "2021-09-21T18:45:03.949527Z"
    }
   },
   "outputs": [
    {
     "data": {
      "text/plain": [
       "0.638996138996139"
      ]
     },
     "execution_count": 38,
     "metadata": {},
     "output_type": "execute_result"
    }
   ],
   "source": [
    "# Veamos còomo funciona el clasificador para valid\n",
    "clf.score(cv_valid, labels_val)"
   ]
  },
  {
   "cell_type": "code",
   "execution_count": 39,
   "metadata": {
    "execution": {
     "iopub.execute_input": "2021-09-21T18:45:03.966412Z",
     "iopub.status.busy": "2021-09-21T18:45:03.966176Z",
     "iopub.status.idle": "2021-09-21T18:45:04.114342Z",
     "shell.execute_reply": "2021-09-21T18:45:04.113361Z",
     "shell.execute_reply.started": "2021-09-21T18:45:03.966387Z"
    }
   },
   "outputs": [],
   "source": [
    "cv_test = cv.transform(text_test)\n",
    "test_labels = clf.predict(cv_test)"
   ]
  },
  {
   "cell_type": "code",
   "execution_count": 40,
   "metadata": {
    "execution": {
     "iopub.execute_input": "2021-09-21T18:45:04.116081Z",
     "iopub.status.busy": "2021-09-21T18:45:04.115852Z",
     "iopub.status.idle": "2021-09-21T18:45:04.121347Z",
     "shell.execute_reply": "2021-09-21T18:45:04.120426Z",
     "shell.execute_reply.started": "2021-09-21T18:45:04.116055Z"
    }
   },
   "outputs": [],
   "source": [
    "#Armo el submission.csv\n",
    "df_test = pd.DataFrame(data=test_labels, columns=[\"pred_labels\"],)"
   ]
  },
  {
   "cell_type": "code",
   "execution_count": 41,
   "metadata": {
    "execution": {
     "iopub.execute_input": "2021-09-21T18:45:04.123149Z",
     "iopub.status.busy": "2021-09-21T18:45:04.122856Z",
     "iopub.status.idle": "2021-09-21T18:45:04.138469Z",
     "shell.execute_reply": "2021-09-21T18:45:04.137458Z",
     "shell.execute_reply.started": "2021-09-21T18:45:04.123114Z"
    }
   },
   "outputs": [
    {
     "data": {
      "text/html": [
       "<div>\n",
       "<style scoped>\n",
       "    .dataframe tbody tr th:only-of-type {\n",
       "        vertical-align: middle;\n",
       "    }\n",
       "\n",
       "    .dataframe tbody tr th {\n",
       "        vertical-align: top;\n",
       "    }\n",
       "\n",
       "    .dataframe thead th {\n",
       "        text-align: right;\n",
       "    }\n",
       "</style>\n",
       "<table border=\"1\" class=\"dataframe\">\n",
       "  <thead>\n",
       "    <tr style=\"text-align: right;\">\n",
       "      <th></th>\n",
       "      <th>pred_labels</th>\n",
       "    </tr>\n",
       "  </thead>\n",
       "  <tbody>\n",
       "    <tr>\n",
       "      <th>0</th>\n",
       "      <td>contradiction</td>\n",
       "    </tr>\n",
       "    <tr>\n",
       "      <th>1</th>\n",
       "      <td>neutral</td>\n",
       "    </tr>\n",
       "    <tr>\n",
       "      <th>2</th>\n",
       "      <td>neutral</td>\n",
       "    </tr>\n",
       "    <tr>\n",
       "      <th>3</th>\n",
       "      <td>entailment</td>\n",
       "    </tr>\n",
       "    <tr>\n",
       "      <th>4</th>\n",
       "      <td>neutral</td>\n",
       "    </tr>\n",
       "  </tbody>\n",
       "</table>\n",
       "</div>"
      ],
      "text/plain": [
       "     pred_labels\n",
       "0  contradiction\n",
       "1        neutral\n",
       "2        neutral\n",
       "3     entailment\n",
       "4        neutral"
      ]
     },
     "execution_count": 41,
     "metadata": {},
     "output_type": "execute_result"
    }
   ],
   "source": [
    "df_test.head()"
   ]
  },
  {
   "cell_type": "code",
   "execution_count": 42,
   "metadata": {
    "execution": {
     "iopub.execute_input": "2021-09-21T18:45:04.140307Z",
     "iopub.status.busy": "2021-09-21T18:45:04.139805Z",
     "iopub.status.idle": "2021-09-21T18:45:04.150639Z",
     "shell.execute_reply": "2021-09-21T18:45:04.149830Z",
     "shell.execute_reply.started": "2021-09-21T18:45:04.140265Z"
    }
   },
   "outputs": [],
   "source": [
    "df_test.index.names = [\"pairID\"]"
   ]
  },
  {
   "cell_type": "code",
   "execution_count": 43,
   "metadata": {
    "execution": {
     "iopub.execute_input": "2021-09-21T18:45:04.152271Z",
     "iopub.status.busy": "2021-09-21T18:45:04.151959Z",
     "iopub.status.idle": "2021-09-21T18:45:04.169658Z",
     "shell.execute_reply": "2021-09-21T18:45:04.168848Z",
     "shell.execute_reply.started": "2021-09-21T18:45:04.152234Z"
    }
   },
   "outputs": [
    {
     "data": {
      "text/html": [
       "<div>\n",
       "<style scoped>\n",
       "    .dataframe tbody tr th:only-of-type {\n",
       "        vertical-align: middle;\n",
       "    }\n",
       "\n",
       "    .dataframe tbody tr th {\n",
       "        vertical-align: top;\n",
       "    }\n",
       "\n",
       "    .dataframe thead th {\n",
       "        text-align: right;\n",
       "    }\n",
       "</style>\n",
       "<table border=\"1\" class=\"dataframe\">\n",
       "  <thead>\n",
       "    <tr style=\"text-align: right;\">\n",
       "      <th></th>\n",
       "      <th>pred_labels</th>\n",
       "    </tr>\n",
       "    <tr>\n",
       "      <th>pairID</th>\n",
       "      <th></th>\n",
       "    </tr>\n",
       "  </thead>\n",
       "  <tbody>\n",
       "    <tr>\n",
       "      <th>0</th>\n",
       "      <td>contradiction</td>\n",
       "    </tr>\n",
       "    <tr>\n",
       "      <th>1</th>\n",
       "      <td>neutral</td>\n",
       "    </tr>\n",
       "    <tr>\n",
       "      <th>2</th>\n",
       "      <td>neutral</td>\n",
       "    </tr>\n",
       "    <tr>\n",
       "      <th>3</th>\n",
       "      <td>entailment</td>\n",
       "    </tr>\n",
       "    <tr>\n",
       "      <th>4</th>\n",
       "      <td>neutral</td>\n",
       "    </tr>\n",
       "    <tr>\n",
       "      <th>...</th>\n",
       "      <td>...</td>\n",
       "    </tr>\n",
       "    <tr>\n",
       "      <th>9819</th>\n",
       "      <td>contradiction</td>\n",
       "    </tr>\n",
       "    <tr>\n",
       "      <th>9820</th>\n",
       "      <td>entailment</td>\n",
       "    </tr>\n",
       "    <tr>\n",
       "      <th>9821</th>\n",
       "      <td>contradiction</td>\n",
       "    </tr>\n",
       "    <tr>\n",
       "      <th>9822</th>\n",
       "      <td>entailment</td>\n",
       "    </tr>\n",
       "    <tr>\n",
       "      <th>9823</th>\n",
       "      <td>neutral</td>\n",
       "    </tr>\n",
       "  </tbody>\n",
       "</table>\n",
       "<p>9824 rows × 1 columns</p>\n",
       "</div>"
      ],
      "text/plain": [
       "          pred_labels\n",
       "pairID               \n",
       "0       contradiction\n",
       "1             neutral\n",
       "2             neutral\n",
       "3          entailment\n",
       "4             neutral\n",
       "...               ...\n",
       "9819    contradiction\n",
       "9820       entailment\n",
       "9821    contradiction\n",
       "9822       entailment\n",
       "9823          neutral\n",
       "\n",
       "[9824 rows x 1 columns]"
      ]
     },
     "execution_count": 43,
     "metadata": {},
     "output_type": "execute_result"
    }
   ],
   "source": [
    "df_test"
   ]
  },
  {
   "cell_type": "code",
   "execution_count": 44,
   "metadata": {
    "execution": {
     "iopub.execute_input": "2021-09-21T18:45:04.171315Z",
     "iopub.status.busy": "2021-09-21T18:45:04.171052Z",
     "iopub.status.idle": "2021-09-21T18:45:04.200316Z",
     "shell.execute_reply": "2021-09-21T18:45:04.199414Z",
     "shell.execute_reply.started": "2021-09-21T18:45:04.171289Z"
    }
   },
   "outputs": [],
   "source": [
    "df_test.to_csv(\"submission.csv\")"
   ]
  },
  {
   "cell_type": "code",
   "execution_count": null,
   "metadata": {},
   "outputs": [],
   "source": [
    "\n"
   ]
  }
 ],
 "metadata": {
  "kernelspec": {
   "display_name": "Python [conda env:rn_tp1]",
   "language": "python",
   "name": "conda-env-rn_tp1-py"
  },
  "language_info": {
   "codemirror_mode": {
    "name": "ipython",
    "version": 3
   },
   "file_extension": ".py",
   "mimetype": "text/x-python",
   "name": "python",
   "nbconvert_exporter": "python",
   "pygments_lexer": "ipython3",
   "version": "3.8.10"
  }
 },
 "nbformat": 4,
 "nbformat_minor": 4
}
